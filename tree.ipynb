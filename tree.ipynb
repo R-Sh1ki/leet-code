{
 "cells": [
  {
   "cell_type": "code",
   "execution_count": 1,
   "id": "afb002bf",
   "metadata": {},
   "outputs": [
    {
     "data": {
      "text/plain": [
       "[3, 9, 20, None, None, 15, 7]"
      ]
     },
     "execution_count": 1,
     "metadata": {},
     "output_type": "execute_result"
    }
   ],
   "source": [
    "# definition for a binary tree node.\n",
    "from typing import Optional, List\n",
    "\n",
    "class TreeNode:\n",
    "\tdef __init__(self, val=0, left=None, right=None):\n",
    "\t\tself.val = val\n",
    "\t\tself.left = left\n",
    "\t\tself.right = right\n",
    "\n",
    "# construct binary tree from list.\n",
    "def constructBinaryTree(nodes: List[int]) -> TreeNode:\n",
    "\t# if the list is empty, return None.\n",
    "\tif not nodes: return None\n",
    "\n",
    "\troot = TreeNode(nodes[0], None, None)\n",
    "\tqueue = [root]\n",
    "\n",
    "\tfor i, v in enumerate(nodes[1:]):\n",
    "\t\t# if v is None, the node is None.\n",
    "\t\tnode = TreeNode(v, None, None) if v is not None else None\n",
    "\n",
    "\t\t# skip None node, it only a placehoder.\n",
    "\t\twhile queue[0] == None:\n",
    "\t\t\tqueue.pop(0)\n",
    "\t\t\n",
    "\t\tif not i % 2:\n",
    "\t\t\tqueue[0].left = node\n",
    "\t\telse:\n",
    "\t\t\tqueue[0].right = node\n",
    "\t\t\tqueue.pop(0)\n",
    "\t\t\n",
    "\t\tqueue.append(node)\n",
    "\t\n",
    "\treturn root\n",
    "\n",
    "def convertBinaryTree2List(root: TreeNode) -> List[int]:\n",
    "\tif not root: return []\n",
    "\n",
    "\tqueue = [root]\n",
    "\tans = []\n",
    "\n",
    "\twhile queue:\n",
    "\t\tn = len(queue)\n",
    "\t\tfor _ in range(n):\n",
    "\t\t\tnode = queue.pop(0)\n",
    "\t\t\tif node:\n",
    "\t\t\t\tqueue.append(node.left)\n",
    "\t\t\t\tqueue.append(node.right)\n",
    "\t\t\t\tans.append(node.val)\n",
    "\t\t\telse:\n",
    "\t\t\t\tans.append(node)\n",
    "\t\n",
    "\tfor i in range(len(ans)-1, -1, -1):\n",
    "\t\tif ans[i]: return ans[:i+1]\n",
    "\n",
    "root = [3,9,20,None,None,15,7]\n",
    "root_node = constructBinaryTree(root)\n",
    "tree_list = convertBinaryTree2List(root_node)\n",
    "tree_list"
   ]
  },
  {
   "cell_type": "code",
   "execution_count": 3,
   "id": "4e69cad2",
   "metadata": {},
   "outputs": [
    {
     "data": {
      "text/plain": [
       "[9, 15, 7, 20, 3]"
      ]
     },
     "execution_count": 3,
     "metadata": {},
     "output_type": "execute_result"
    }
   ],
   "source": [
    "class Solution:\n",
    "\t# Breadth-First Search, also called Level-Order Traversal.\n",
    "\tdef levelOrderTraversal(self, root: Optional[TreeNode]) -> List[List[int]]:\n",
    "\t\t# if the tree is empty, return empty list.\n",
    "\t\tif not root: return []\n",
    "\n",
    "\t\tqueue = [root]\n",
    "\t\tans = []\n",
    "\n",
    "\t\twhile queue:\n",
    "\t\t\t# record the node number of the current level.\n",
    "\t\t\tn = len(queue)\n",
    "\t\t\tcur_level_vals = []\n",
    "\t\t\t# traverse the current level nodes.\n",
    "\t\t\tfor _ in range(n):\n",
    "\t\t\t\tnode = queue.pop(0)\n",
    "\t\t\t\tif node.left: queue.append(node.left)\n",
    "\t\t\t\tif node.right: queue.append(node.right)\n",
    "\t\t\t\tcur_level_vals.append(node.val)\n",
    "\t\t\tans.append(cur_level_vals)\n",
    "\t\t\n",
    "\t\treturn ans\n",
    "\t\n",
    "\t# Depth-First Search, including Pre-Order, In-Order and Post-Order Traversal.\n",
    "\tdef preOrderTraversal(self, root: Optional[TreeNode]) -> List[int]:\n",
    "\t\t# if the tree is empty, return empty list.\n",
    "\t\tif not root: return []\n",
    "\n",
    "\t\tans = [root.val]\n",
    "\t\tans += self.preOrderTraversal(root.left)\n",
    "\t\tans += self.preOrderTraversal(root.right)\n",
    "\n",
    "\t\treturn ans\n",
    "\t\n",
    "\tdef inOrderTraversal(self, root: Optional[TreeNode]) -> List[int]:\n",
    "\t\t# if the tree is empty, return empty list.\n",
    "\t\tif not root: return []\n",
    "\t\t\n",
    "\t\tans = []\n",
    "\t\tans += self.inOrderTraversal(root.left)\n",
    "\t\tans += [root.val]\n",
    "\t\tans += self.inOrderTraversal(root.right)\n",
    "\n",
    "\t\treturn ans\n",
    "\n",
    "\tdef postOrderTraversal(self, root: Optional[TreeNode]) -> List[int]:\n",
    "\t\t# if the tree is empty, return empty list.\n",
    "\t\tif not root: return []\n",
    "\n",
    "\t\tans = []\n",
    "\t\tans += self.postOrderTraversal(root.left)\n",
    "\t\tans += self.postOrderTraversal(root.right)\n",
    "\t\tans += [root.val]\n",
    "\n",
    "\t\treturn ans\n",
    "\n",
    "root = [3,9,20,None,None,15,7]\n",
    "root = constructBinaryTree(root)\n",
    "\n",
    "solution = Solution()\n",
    "solution.levelOrderTraversal(root)\n",
    "# [[3], [9, 20], [15, 7]]\n",
    "solution.preOrderTraversal(root)\n",
    "# [3, 9, 20, 15, 7]\n",
    "solution.inOrderTraversal(root)\n",
    "# [9, 3, 15, 20, 7]\n",
    "solution.postOrderTraversal(root)\n",
    "# [9, 15, 7, 20, 3]"
   ]
  },
  {
   "cell_type": "code",
   "execution_count": 4,
   "id": "98acd701",
   "metadata": {},
   "outputs": [
    {
     "name": "stdout",
     "output_type": "stream",
     "text": [
      "None\n",
      "None\n",
      "None\n",
      "None\n"
     ]
    },
    {
     "data": {
      "text/plain": [
       "[3, 1, None, None, 2]"
      ]
     },
     "execution_count": 4,
     "metadata": {},
     "output_type": "execute_result"
    }
   ],
   "source": [
    "class Solution:\n",
    "\tdef numTrees(self, n: int) -> int:\n",
    "\t\tdp = [0] * (n+1)\n",
    "\t\t# boundary conditions.\n",
    "\t\tdp[0] = 1\n",
    "\t\tdp[1] = 1\n",
    "\n",
    "\t\tfor i in range(2, n+1):\n",
    "\t\t\tfor j in range(i):\n",
    "\t\t\t\tdp[i] += dp[j] * dp[i-j-1]\n",
    "\t\t\n",
    "\t\treturn dp[n]\n",
    "\n",
    "\tdef generateTrees(self, n: int) -> List[Optional[TreeNode]]:\n",
    "\t\tif not n: return []\n",
    "\n",
    "\t\thashtable = dict()\n",
    "\n",
    "\n",
    "\t\tdef _generateTrees(start, end):\n",
    "\t\t\tif start > end: return [None]\n",
    "\t\t\tif (start, end) in hashtable:\n",
    "\t\t\t\treturn hashtable[(start, end)]\n",
    "\t\t\t\n",
    "\t\t\tans = []\n",
    "\t\t\t\n",
    "\t\t\tfor i in range(start, end+1):\n",
    "\t\t\t\tleft_subtrees = _generateTrees(start, i-1)\n",
    "\t\t\t\tright_subtrees = _generateTrees(i+1, end)\n",
    "\t\t\t\tfor left_root in left_subtrees:\n",
    "\t\t\t\t\tfor right_root in right_subtrees:\n",
    "\t\t\t\t\t\troot = TreeNode(i, left_root, right_root)\n",
    "\t\t\t\t\t\tans.append(root)\n",
    "\t\t\thashtable[(start, end)] = ans\n",
    "\n",
    "\t\t\treturn ans\n",
    "\n",
    "\n",
    "\t\treturn _generateTrees(1, n)\n",
    "\t\n",
    "\tdef isValidBST(self, root: Optional[TreeNode]) -> bool:\n",
    "\t\tif not root: return False\n",
    "\n",
    "\t\tdef _checkBST(node, lower, upper):\n",
    "\t\t\t# leaf node\n",
    "\t\t\tif not node: return True\n",
    "\t\t\t\n",
    "\t\t\tif node.val <= lower or node.val >= upper: return False\n",
    "\n",
    "\t\t\treturn _checkBST(node.left, lower, node.val) and _checkBST(node.right, node.val, upper)\n",
    "\n",
    "\t\treturn _checkBST(root.left, -2**32-1, root.val) and _checkBST(root.right, root.val, 2**31)\n",
    "\t\n",
    "\tdef isValidBST(self, root: Optional[TreeNode]) -> bool:\n",
    "\t\tif not root: return False\n",
    "\n",
    "\t\tpre_val = root.val\n",
    "\t\t\n",
    "\t\tdef _inOrderTraversal(root: Optional[TreeNode]):\n",
    "\t\t\tif not root: return True\n",
    "\n",
    "\t\t\tif not _inOrderTraversal(root.left): return False\n",
    "\n",
    "\t\t\tif root.val <= pre_val:\n",
    "\t\t\t\treturn False\n",
    "\t\t\t\n",
    "\t\t\treturn _inOrderTraversal(root.right)\n",
    "\t\treturn _inOrderTraversal(root)\n",
    "\t\n",
    "\tdef isValidBST3(self, root: Optional[TreeNode]) -> bool:\n",
    "\t\tif not root: return False\n",
    "\n",
    "\t\t# -inf boundary -2**31-1\n",
    "\t\tlower_node = TreeNode(-2**31-1, None, None)\n",
    "\t\tupper_node = TreeNode(2**31, None, None)\n",
    "\t\tstack = [lower_node, root, upper_node]\n",
    "\n",
    "\t\twhile stack:\n",
    "\t\t\tupper_node = stack.pop()\n",
    "\t\t\tnode = stack.pop()\n",
    "\n",
    "\t\t\twhile not node.left and not node.right and stack:\n",
    "\t\t\t\tupper_node = node\n",
    "\t\t\t\tnode = stack.pop()\n",
    "\t\t\t\n",
    "\t\t\tif not stack: return True\n",
    "\n",
    "\t\t\tif node.left:\n",
    "\t\t\t\tif (node.left.val >= node.val or node.left.val <= stack[-1].val):\n",
    "\t\t\t\t\treturn False\n",
    "\t\t\t\telse:\n",
    "\t\t\t\t\tstack.append(node.left)\n",
    "\t\t\t\t\tnode.left = None\n",
    "\t\t\t\n",
    "\t\t\tright_node, node.right = node.right, None\n",
    "\t\t\t\n",
    "\t\t\tstack.append(node)\n",
    "\t\t\t\n",
    "\t\t\tif right_node:\n",
    "\t\t\t\tif (right_node.val <= node.val or right_node.val >= upper_node.val):\n",
    "\t\t\t\t\treturn False\n",
    "\t\t\t\telse:\n",
    "\t\t\t\t\tstack.append(right_node)\n",
    "\t\t\tstack.append(upper_node)\n",
    "\t\n",
    "\tdef recoverTree(self, root: Optional[TreeNode]) -> None:\n",
    "\t\tif not root: return root\n",
    "\n",
    "\t\tself.pre_node = TreeNode(-2**31-1)\n",
    "\t\tself.swap_node_x, self.swap_node_y = None, None\n",
    "\n",
    "\t\tdef _inOrderTraversal(root):\n",
    "\t\t\tif not root:\n",
    "\t\t\t\tprint(root)\n",
    "\t\t\t\treturn;\n",
    "\n",
    "\t\t\t_inOrderTraversal(root.left)\n",
    "\n",
    "\t\t\tif root.val <= self.pre_node.val:\n",
    "\t\t\t\tif not self.swap_node_x: self.swap_node_x = self.pre_node\n",
    "\t\t\t\tself.swap_node_y = root\n",
    "\t\t\n",
    "\t\t\tself.pre_node = root\n",
    "\n",
    "\t\t\t_inOrderTraversal(root.right)\n",
    "\n",
    "\t\t_inOrderTraversal(root)\n",
    "\n",
    "\t\tif self.swap_node_x and self.swap_node_y:\n",
    "\t\t\tself.swap_node_x.val, self.swap_node_y.val = self.swap_node_y.val, self.swap_node_x.val\n",
    "\n",
    "\n",
    "n = 3\n",
    "solution = Solution()\n",
    "# solution.numTrees(n)\n",
    "# ans = solution.generateTrees(n)\n",
    "# for root in ans:\n",
    "# \tprint(convertBinaryTree2List(root))\n",
    "root = [5,1,4,None,None,3,6]\n",
    "root = [2,1,3]\n",
    "root = [32,26,47,19,None,None,56,None,27]\n",
    "# root = [5,4,6,None,None,3,7]\n",
    "# root = [0, None, -1]\n",
    "\n",
    "\n",
    "root = [1,3,None,None,2]\n",
    "root = constructBinaryTree(root)\n",
    "# solution.isValidBST2(root)\n",
    "solution.recoverTree(root)\n",
    "convertBinaryTree2List(root)"
   ]
  },
  {
   "cell_type": "code",
   "execution_count": null,
   "id": "e11fa6e7",
   "metadata": {},
   "outputs": [
    {
     "data": {
      "text/plain": [
       "False"
      ]
     },
     "execution_count": 12,
     "metadata": {},
     "output_type": "execute_result"
    }
   ],
   "source": [
    "class Solution:\n",
    "\tdef isSameTree(self, p: Optional[TreeNode], q: Optional[TreeNode]) -> bool:\n",
    "\t\tif not p and not q: return True\n",
    "\t\tif not p or not q: return False\n",
    "\n",
    "\t\tif p.val != q.val:\n",
    "\t\t\treturn False\n",
    "\t\t\t\n",
    "\t\treturn self.isSameTree(p.left, q.left) and self.isSameTree(p.right, q.right)\n",
    "\t\n",
    "\t# recursive algorithm.\n",
    "\tdef isSymmetric(self, root: Optional[TreeNode]) -> bool:\n",
    "\t\tif not root: return False\n",
    "\n",
    "\t\tdef _isSymmetric(p: Optional[TreeNode], q: Optional[TreeNode]) -> bool:\n",
    "\t\t\tif not p and not q: return True\n",
    "\t\t\tif not p or not q: return False\n",
    "\n",
    "\t\t\tif p.val != q.val:\n",
    "\t\t\t\treturn False\n",
    "\t\t\treturn _isSymmetric(p.left, q.right) and _isSymmetric(p.right, q.left)\n",
    "\n",
    "\t\treturn _isSymmetric(root.left, root.right)\n",
    "\t\n",
    "\t# level traversal.\n",
    "\tdef isSymmetric_stack(self, root: Optional[TreeNode]) -> bool:\n",
    "\t\tif not root: return False\n",
    "\n",
    "\t\tqueue = [root]\n",
    "\n",
    "\t\twhile queue:\n",
    "\t\t\tn = len(queue)\n",
    "\t\t\tlevel_vals = []\n",
    "\n",
    "\t\t\tfor _ in range(n):\n",
    "\t\t\t\tnode = queue.pop(0)\n",
    "\t\t\t\tif node: \n",
    "\t\t\t\t\tqueue.append(node.left)\n",
    "\t\t\t\t\tqueue.append(node.right)\n",
    "\t\t\t\t\tlevel_vals.append(node.val) \n",
    "\t\t\t\telse: \n",
    "\t\t\t\t\tlevel_vals.append(node)\n",
    "\t\t\t\n",
    "\t\t\tfor i in range(n // 2 + 1):\n",
    "\t\t\t\tif level_vals[i] != level_vals[n-i-1]:\n",
    "\t\t\t\t\treturn False\n",
    "\n",
    "\t\treturn True\n",
    "\n",
    "\n",
    "p = [1 ,2]\n",
    "q = [1,None,2]\n",
    "\n",
    "p = [1,2,3]\n",
    "q = [1,2,3]\n",
    "\n",
    "p = [1,2,1]\n",
    "q = [1,1,2]\n",
    "p, q = constructBinaryTree(p), constructBinaryTree(q)\n",
    "\n",
    "solution = Solution()\n",
    "ans = solution.isSameTree(p, q)\n",
    "ans\n",
    "\n",
    "root = [1,2,2,None,3,None,3]\n",
    "# root = [1,2,2,3,4,4,3]\n",
    "root = constructBinaryTree(root)\n",
    "solution = Solution()\n",
    "ans = solution.isSymmetric_stack(root)\n",
    "ans"
   ]
  },
  {
   "cell_type": "code",
   "execution_count": 16,
   "id": "54ca013e",
   "metadata": {},
   "outputs": [
    {
     "data": {
      "text/plain": [
       "[[3], [20, 9], [15, 7]]"
      ]
     },
     "execution_count": 16,
     "metadata": {},
     "output_type": "execute_result"
    }
   ],
   "source": [
    "class Solution:\n",
    "\tdef zigzagLevelOrder(self, root: Optional[TreeNode]) -> List[List[int]]:\n",
    "\t\tif not root: return []\n",
    "\n",
    "\t\tans = []\n",
    "\t\tqueue = [root]\n",
    "\t\torder = True\n",
    "\n",
    "\t\twhile queue:\n",
    "\t\t\tn = len(queue)\n",
    "\t\t\tlevel_vals = []\n",
    "\n",
    "\t\t\tfor _ in range(n):\n",
    "\t\t\t\tnode = queue.pop(0)\n",
    "\t\t\t\tlevel_vals.append(node.val)\n",
    "\t\t\t\t\n",
    "\t\t\t\tif node.left: queue.append(node.left)\n",
    "\t\t\t\tif node.right: queue.append(node.right)\n",
    "\t\t\tif order:\n",
    "\t\t\t\tans.append(level_vals)\n",
    "\t\t\telse:\n",
    "\t\t\t\tlevel_vals.reverse()\n",
    "\t\t\t\tans.append(level_vals)\n",
    "\t\t\n",
    "\t\t\torder = not order\n",
    "\t\t\t\n",
    "\t\treturn ans\n",
    "\t\n",
    "\n",
    "root = [3,9,20,None,None,15,7]\n",
    "root = constructBinaryTree(root)\n",
    "solution = Solution()\n",
    "solution.zigzagLevelOrder(root)"
   ]
  },
  {
   "cell_type": "code",
   "execution_count": null,
   "id": "76e09d6f",
   "metadata": {},
   "outputs": [
    {
     "data": {
      "text/plain": [
       "2"
      ]
     },
     "execution_count": 19,
     "metadata": {},
     "output_type": "execute_result"
    }
   ],
   "source": [
    "# The max and min depth of a binary tree\n",
    "class Solution:\n",
    "\tdef maxDepth(self, root: Optional[TreeNode]) -> int:\n",
    "\t\tif not root: return 0\n",
    "\n",
    "\t\tdepth = 0\n",
    "\t\tqueue = [root]\n",
    "\n",
    "\t\twhile queue:\n",
    "\t\t\tdepth += 1\n",
    "\t\t\t\n",
    "\t\t\tfor _ in range(len(queue)):\n",
    "\t\t\t\tnode = queue.pop(0)\n",
    "\t\t\t\tif node.left: queue.append(node.left)\n",
    "\t\t\t\tif node.right: queue.append(node.right)\n",
    "\t\t\n",
    "\t\treturn depth\n",
    "\n",
    "\tdef minDepth(self, root: Optional[TreeNode]) -> int:\n",
    "\t\tif not root: return 0\n",
    "\n",
    "\t\tdepth = 0\n",
    "\t\tqueue = [root]\n",
    "\n",
    "\t\twhile queue:\n",
    "\t\t\tdepth += 1\n",
    "\t\t\tfor _ in range(len(queue)):\n",
    "\t\t\t\tnode = queue.pop(0)\n",
    "\t\t\t\tif not node.left and not node.right: return depth\n",
    "\t\t\t\tif node.left: queue.append(node.left)\n",
    "\t\t\t\tif node.right: queue.append(node.right)\n",
    "        \n",
    "\n",
    "root = [3,9,20,None,None,15,7]\n",
    "root = constructBinaryTree(root)\n",
    "solution = Solution()\n",
    "solution.maxDepth(root)\n",
    "solution.minDepth(root)"
   ]
  },
  {
   "cell_type": "code",
   "execution_count": null,
   "id": "d702781e",
   "metadata": {},
   "outputs": [
    {
     "data": {
      "text/plain": [
       "False"
      ]
     },
     "execution_count": 9,
     "metadata": {},
     "output_type": "execute_result"
    }
   ],
   "source": [
    "# Balanced (AVL) Tree\n",
    "class Solution:\n",
    "\tdef isBalanced(self, root: Optional[TreeNode]) -> bool:\n",
    "\t\t\"\"\"Pre-order Traversal (from top to bottom)\n",
    "\t\t\"\"\"\n",
    "\t\tif not root: return True\n",
    "\n",
    "\t\tdef depth(root: Optional[TreeNode]) -> int:\n",
    "\t\t\tif not root: return 0\n",
    "\t\t\treturn max(depth(root.left), depth(root.right)) + 1\n",
    "\t\t\n",
    "\t\treturn abs(depth(root.left) - depth(root.right)) <= 1 and \\\n",
    "\t\t\tself.isBalanced(root.left) and self.isBalanced(root.right)\n",
    "\t\n",
    "\n",
    "\tdef isBalanced(self, root: Optional[TreeNode]) -> bool:\n",
    "\t\t\"\"\"Post-order Traversal\"\"\"\n",
    "\t\tdef depth(root: Optional[TreeNode]) -> int:\n",
    "\t\t\tif not root: return 0\n",
    "\n",
    "\t\t\tleft_depth = depth(root.left)\n",
    "\t\t\tif left_depth == -1: return -1\n",
    "\t\t\tright_depth = depth(root.right)\n",
    "\t\t\tif right_depth == -1: return -1\n",
    "\n",
    "\t\t\treturn max(left_depth, right_depth) + 1 \\\n",
    "\t\t\t\tif abs(left_depth - right_depth) <= 1 else -1\n",
    "\t\t\n",
    "\t\treturn depth(root) != -1\n",
    "\n",
    "\n",
    "# True\n",
    "root = [3,9,20,None,None,15,7]\n",
    "# False\n",
    "root = [1,2,2,3,3,None,None,4,4]\n",
    "# True\n",
    "# root = []\n",
    "\n",
    "root = constructBinaryTree(root)\n",
    "\n",
    "solution = Solution()\n",
    "solution.isBalanced(root)"
   ]
  },
  {
   "cell_type": "code",
   "execution_count": 2,
   "id": "36c70f8c",
   "metadata": {},
   "outputs": [
    {
     "data": {
      "text/plain": [
       "[[5, 4, 11, 2], [5, 8, 4, 5]]"
      ]
     },
     "execution_count": 2,
     "metadata": {},
     "output_type": "execute_result"
    }
   ],
   "source": [
    "# Sum Path\n",
    "class Solution:\n",
    "\tdef hasPathSum(self, root: Optional[TreeNode], targetSum: int) -> bool:\n",
    "\t\t\"\"\"Post-order Traversal\"\"\"\n",
    "\t\tif not root: return False\n",
    "\n",
    "\t\tstack = [(root, root.val)]\n",
    "\n",
    "\t\twhile stack:\n",
    "\t\t\tnode, path = stack.pop()\n",
    "\t\t\tif not node.left and not node.right and path == targetSum:\n",
    "\t\t\t\treturn True\n",
    "\t\t\tif node.left:\n",
    "\t\t\t\tstack.append((node.left, path + node.left.val))\n",
    "\t\t\tif node.right:\n",
    "\t\t\t\tstack.append((node.right, path + node.right.val))\n",
    "\n",
    "\t\treturn False\n",
    "\n",
    "\tdef pathSum(self, root: Optional[TreeNode], targetSum: int) -> List[List[int]]:\n",
    "\t\tstack = []\n",
    "\t\tpath = []\n",
    "\t\tans, path_sum = [], 0\n",
    "\t\tcur_node = root\n",
    "\n",
    "\t\twhile stack or cur_node:\n",
    "\t\t\tif cur_node:\n",
    "\t\t\t\tstack.append((cur_node, 1))\n",
    "\t\t\t\tpath.append(cur_node.val)\n",
    "\t\t\t\t# print(path)\n",
    "\t\t\t\tpath_sum += cur_node.val\n",
    "\t\t\t\tcur_node = cur_node.left\n",
    "\t\t\telse:\n",
    "\t\t\t\tnode, flag = stack[-1]\n",
    "\t\t\t\tif flag == 1:\n",
    "\t\t\t\t\tcur_node = node\n",
    "\t\t\t\t\tstack[-1] = (node, 2)\n",
    "\t\t\t\t\tcur_node = node.right\n",
    "\t\t\t\telse:\n",
    "\t\t\t\t\tcur_node = stack.pop()[0]\n",
    "\t\t\t\t\tif not cur_node.left and not cur_node.right and path_sum == targetSum:\n",
    "\t\t\t\t\t\tans.append(path.copy())\n",
    "\t\t\t\t\tpath.pop()\n",
    "\t\t\t\t\tpath_sum -= cur_node.val \n",
    "\t\t\t\t\tcur_node = None\n",
    "\t\treturn ans\n",
    "\n",
    "root = [5,4,8,11,None,13,4,7,2,None,None,5,1]\n",
    "targetSum = 22\n",
    "\n",
    "root = constructBinaryTree(root)\n",
    "solution = Solution()\n",
    "solution.pathSum(root, targetSum)"
   ]
  },
  {
   "cell_type": "code",
   "execution_count": 4,
   "id": "6aac59ee",
   "metadata": {},
   "outputs": [
    {
     "data": {
      "text/plain": [
       "3"
      ]
     },
     "execution_count": 4,
     "metadata": {},
     "output_type": "execute_result"
    }
   ],
   "source": [
    "class Solution:\n",
    "\t# Prefix Sum + Backtracking\n",
    "\tdef pathSum(self, root: Optional[TreeNode], targetSum: int) -> int:\n",
    "\t\t# record the number of nodes (start node counts) of the prefix sum.\n",
    "\t\thashmap = {0: 1}\n",
    "\n",
    "\t\tdef dfs(node: Optional[TreeNode], curSum: int) -> int:\n",
    "\t\t\tif not node: return 0\n",
    "\t\t\tcurSum += node.val\n",
    "\t\t\t\n",
    "\t\t\tpath_cnt = hashmap.get(curSum - targetSum, 0)\n",
    "\t\t\thashmap[curSum] = hashmap.get(curSum, 0) + 1\n",
    "\t\t\tpath_cnt += dfs(node.left, curSum) + dfs(node.right, curSum)\n",
    "\t\t\t\n",
    "\t\t\t# backtracking\n",
    "\t\t\thashmap[curSum] -= 1\n",
    "\t\t\treturn path_cnt\n",
    "\t\t\n",
    "\t\treturn dfs(root, 0)\n",
    "\t\n",
    "root = [10,5,-3,3,2,None,11,3,-2,None,1]\n",
    "targetSum = 8\n",
    "root = constructBinaryTree(root)\n",
    "\n",
    "solution = Solution()\n",
    "solution.pathSum(root, targetSum)"
   ]
  },
  {
   "cell_type": "code",
   "execution_count": 4,
   "id": "37bfa9b0",
   "metadata": {},
   "outputs": [
    {
     "data": {
      "text/plain": [
       "[1, None, 2, None, 3, None, 4, None, 5, None, 6]"
      ]
     },
     "execution_count": 4,
     "metadata": {},
     "output_type": "execute_result"
    }
   ],
   "source": [
    "class Solution:\n",
    "\tdef flatten(self, root: Optional[TreeNode]) -> None:\n",
    "\t\tif not root: return\n",
    "\n",
    "\t\tstack = [root]\n",
    "\t\tprev_node = None\n",
    "\n",
    "\t\twhile stack:\n",
    "\t\t\tnode = stack.pop()\n",
    "\t\t\tif prev_node:\n",
    "\t\t\t\tprev_node.left = None\n",
    "\t\t\t\tprev_node.right = node\n",
    "\t\t\t\n",
    "\t\t\tif node.right: stack.append(node.right)\n",
    "\t\t\tif node.left: stack.append(node.left)\n",
    "\n",
    "\t\t\tprev_node = node\n",
    "\n",
    "root = [1,2,5,3,4,None,6]\n",
    "root = constructBinaryTree(root)\n",
    "solution = Solution()\n",
    "solution.flatten(root)\n",
    "convertBinaryTree2List(root)"
   ]
  },
  {
   "cell_type": "code",
   "execution_count": null,
   "id": "74f089e0",
   "metadata": {},
   "outputs": [
    {
     "data": {
      "text/plain": [
       "[0, -10, 5, None, -3, None, 9]"
      ]
     },
     "execution_count": 2,
     "metadata": {},
     "output_type": "execute_result"
    }
   ],
   "source": [
    "# 108. Convert Sorted Array to Binary Search Tree\n",
    "\n",
    "class Solution:\n",
    "    \"\"\"Given an integer array `nums` where the elements are sorted in ascending order, convert it to a height-balanced BST.\n",
    "    \"\"\"\n",
    "    def sortedArrayToBST(self, nums: List[int]) -> Optional[TreeNode]:\n",
    "        \"\"\"\n",
    "        Time Complexity: O(n)\n",
    "        Space Complexity: O(logn)\n",
    "        \"\"\"\n",
    "        def inOrderTraversal(left, right):\n",
    "            if left > right: return None\n",
    "\n",
    "            mid = (left + right) // 2\n",
    "\n",
    "            root = TreeNode(nums[mid])\n",
    "            root.left = inOrderTraversal(left, mid-1)\n",
    "            root.right = inOrderTraversal(mid+1, right)\n",
    "            \n",
    "            return root\n",
    "        \n",
    "        return inOrderTraversal(0, len(nums)-1)\n",
    "    \n",
    "nums = [-10,-3,0,5,9]\n",
    "solution = Solution()\n",
    "root = solution.sortedArrayToBST(nums)\n",
    "tree = convertBinaryTree2List(root)\n",
    "tree"
   ]
  },
  {
   "cell_type": "code",
   "execution_count": null,
   "id": "2871cf0d",
   "metadata": {},
   "outputs": [
    {
     "name": "stdout",
     "output_type": "stream",
     "text": [
      "-10 -3 0 5 9 \n"
     ]
    },
    {
     "data": {
      "text/plain": [
       "[0, -3, 9, -10, None, 5]"
      ]
     },
     "execution_count": 9,
     "metadata": {},
     "output_type": "execute_result"
    }
   ],
   "source": [
    "# 109. Convert Sorted List to Binary Search Tree\n",
    "\n",
    "class ListNode:\n",
    "    def __init__(self, val=0, next=None):\n",
    "        self.val = val\n",
    "        self.next = next\n",
    "\n",
    "def constructList(head: List[int]) -> Optional[ListNode]:\n",
    "    if not head: return None\n",
    "    \n",
    "    head_node = ListNode(head[0])\n",
    "    cur_node = head_node\n",
    "\n",
    "    for i in range(1, len(head)):\n",
    "        node = ListNode(head[i])\n",
    "        cur_node.next = node\n",
    "        cur_node = node\n",
    "    return head_node\n",
    "\n",
    "def printList(head: Optional[ListNode]):\n",
    "    node = head\n",
    "    while node:\n",
    "        print(node.val, end=\" \")\n",
    "        node = node.next\n",
    "    print(\"\")\n",
    "\n",
    "class Solution:\n",
    "    \"\"\"\n",
    "    1. A simple method is to convert the List to sorted array and the problem is convert to 109.\n",
    "    2. fast-slow pointer. Time complexity: log(nlogn)\n",
    "    \"\"\"\n",
    "    def sortedListToBST(self, head: Optional[ListNode]) -> Optional[TreeNode]:\n",
    "        if not head: return None\n",
    "\n",
    "        slow, fast = head, head\n",
    "        pre_slow = None\n",
    "\n",
    "        while (fast and fast.next):\n",
    "            pre_slow = slow\n",
    "            slow = slow.next\n",
    "            fast = fast.next.next\n",
    "\n",
    "        root = TreeNode(slow.val)\n",
    "\n",
    "        if pre_slow:\n",
    "            pre_slow.next = None\n",
    "            root.left = self.sortedListToBST(head)\n",
    "        \n",
    "        root.right = self.sortedListToBST(slow.next)\n",
    "\n",
    "        return root\n",
    "\n",
    "head = [-10, -3, 0, 5, 9]\n",
    "list_head = constructList(head)\n",
    "printList(list_head)\n",
    "\n",
    "solution = Solution()\n",
    "tree = solution.sortedListToBST(list_head)\n",
    "convertBinaryTree2List(tree)"
   ]
  },
  {
   "cell_type": "code",
   "execution_count": null,
   "id": "b6cd2f8f",
   "metadata": {},
   "outputs": [
    {
     "name": "stdout",
     "output_type": "stream",
     "text": [
      "3\n",
      "7\n",
      "True\n",
      "9\n",
      "True\n",
      "15\n",
      "True\n",
      "20\n",
      "False\n"
     ]
    }
   ],
   "source": [
    "# 173. Binary Search Tree Iterator\n",
    "\n",
    "class BSTIterator:\n",
    "    \"\"\"Implement the `BSTIterator` class that represents an iterator over the in-order traversal of a BST.\n",
    "    \"\"\"\n",
    "    def __init__(self, root: Optional[TreeNode]):\n",
    "        \"\"\"BSTIterator(TreeNode root) Initializes an object of the BSTIterator class. The root of the BST is given as part \n",
    "        of the constructor. The pointer should be initialized to a non-existent number smaller than any element in the BST.\n",
    "        \"\"\"\n",
    "        self.stack = []\n",
    "        self.pointer = root\n",
    "\n",
    "        while self.pointer:\n",
    "            self.stack.append(self.pointer)\n",
    "            self.pointer = self.pointer.left\n",
    "        \n",
    "        min_val = self.stack[-1].val\n",
    "        self.pointer = TreeNode(min_val - 1, None, None)\n",
    "\n",
    "    def next(self) -> int:\n",
    "        \"\"\"int next() Moves the pointer to the right, then returns the number at the pointer.\n",
    "        \"\"\"\n",
    "        if self.hasNext():\n",
    "            self.pointer = self.pointer.right\n",
    "            while self.pointer:\n",
    "                self.stack.append(self.pointer)\n",
    "                self.pointer = self.pointer.left\n",
    "            self.pointer = self.stack.pop()\n",
    "            return self.pointer.val\n",
    "\n",
    "    def hasNext(self) -> int:\n",
    "        \"\"\"boolean hasNext() Returns true if there exists a number in the traversal to the right of the pointer, \n",
    "        otherwise returns false.\n",
    "        \"\"\"\n",
    "        if self.stack or self.pointer.right:\n",
    "            return True\n",
    "        return False\n",
    "    \n",
    "root = [7,3,15,None,None,9,20]\n",
    "root = constructBinaryTree(root)\n",
    "\n",
    "obj = BSTIterator(root)\n",
    "print(obj.next())\n",
    "print(obj.next())\n",
    "print(obj.hasNext())\n",
    "print(obj.next())\n",
    "print(obj.hasNext())\n",
    "print(obj.next())\n",
    "print(obj.hasNext())\n",
    "print(obj.next())\n",
    "print(obj.hasNext())"
   ]
  },
  {
   "cell_type": "code",
   "execution_count": 41,
   "id": "5b60e52c",
   "metadata": {},
   "outputs": [
    {
     "data": {
      "text/plain": [
       "3"
      ]
     },
     "execution_count": 41,
     "metadata": {},
     "output_type": "execute_result"
    }
   ],
   "source": [
    "# 230. K-th Smallest Element in a BST\n",
    "\n",
    "class Solution:\n",
    "    def kthSmallest(self, root: Optional[TreeNode], k: int) -> int:\n",
    "        stack, node = [], root\n",
    "\n",
    "        while stack or node:\n",
    "            if node:\n",
    "                stack.append(node)\n",
    "                node = node.left\n",
    "            else:\n",
    "                node = stack.pop()\n",
    "                k -= 1\n",
    "                if not k: return node.val\n",
    "                node = node.right\n",
    "\n",
    "root = [3,1,4,None,2]\n",
    "k = 1\n",
    "root = [5,3,6,2,4,None,None,1]\n",
    "k = 3\n",
    "\n",
    "root = constructBinaryTree(root)\n",
    "solution = Solution()\n",
    "ans = solution.kthSmallest(root, k)\n",
    "ans"
   ]
  },
  {
   "cell_type": "code",
   "execution_count": 2,
   "id": "95a2ca41",
   "metadata": {},
   "outputs": [
    {
     "data": {
      "text/plain": [
       "[5, 4, 6, 2, None, None, 7]"
      ]
     },
     "execution_count": 2,
     "metadata": {},
     "output_type": "execute_result"
    }
   ],
   "source": [
    "# 450. Delete Node in a BST\n",
    "\n",
    "class Solution:\n",
    "    def deleteNode(self, root: Optional[TreeNode], key: int) -> Optional[TreeNode]:\n",
    "        if not root: return None\n",
    "\n",
    "        if root.val > key:\n",
    "            root.left = self.deleteNode(root.left, key)\n",
    "        elif root.val < key:\n",
    "            root.right = self.deleteNode(root.right, key)\n",
    "        else:\n",
    "            if not root.left: return root.right\n",
    "            if not root.right: return root.left\n",
    "\n",
    "            node = root.right\n",
    "\n",
    "            while node.left:\n",
    "                node = node.left\n",
    "            \n",
    "            node.left = root.left\n",
    "\n",
    "            root = root.right\n",
    "        \n",
    "        return root\n",
    "\n",
    "root = [5,3,6,2,4,None,7]\n",
    "key = 3\n",
    "\n",
    "root = constructBinaryTree(root)\n",
    "solution = Solution()\n",
    "ans = solution.deleteNode(root, key)\n",
    "convertBinaryTree2List(ans)\n"
   ]
  },
  {
   "cell_type": "code",
   "execution_count": 24,
   "id": "c6805bed",
   "metadata": {},
   "outputs": [
    {
     "data": {
      "text/plain": [
       "1"
      ]
     },
     "execution_count": 24,
     "metadata": {},
     "output_type": "execute_result"
    }
   ],
   "source": [
    "# 530. Minimum Absolute Difference in BST\n",
    "\n",
    "class Solution:\n",
    "    def getMinimumDifference(self, root: Optional[TreeNode]) -> int:\n",
    "        if not root: return None\n",
    "\n",
    "        ans = None\n",
    "\n",
    "        stack = []\n",
    "        pre_node = None\n",
    "        node = root\n",
    "\n",
    "        while node or stack:\n",
    "            if node:\n",
    "                stack.append(node)\n",
    "                node = node.left\n",
    "            else:\n",
    "                node = stack.pop()\n",
    "                \n",
    "                if pre_node:\n",
    "                    diff = abs(node.val - pre_node.val)\n",
    "                    if ans is None or diff < ans:\n",
    "                        ans = diff\n",
    "                if ans == 1: return 1\n",
    "                pre_node = node\n",
    "                node = node.right\n",
    "\n",
    "        return ans\n",
    "\n",
    "root = [4,2,6,1,3]\n",
    "root = constructBinaryTree(root)\n",
    "\n",
    "solution = Solution()\n",
    "ans = solution.getMinimumDifference(root)\n",
    "ans"
   ]
  },
  {
   "cell_type": "code",
   "execution_count": 38,
   "id": "2906c0a3",
   "metadata": {},
   "outputs": [
    {
     "data": {
      "text/plain": [
       "[30, 36, 21, 36, 35, 26, 15, None, None, None, 33, None, None, None, 8]"
      ]
     },
     "execution_count": 38,
     "metadata": {},
     "output_type": "execute_result"
    }
   ],
   "source": [
    "# 538. Convert BST to Greater Tree\n",
    "\n",
    "class Solution:\n",
    "    def convertBST(self, root: Optional[TreeNode]) -> Optional[TreeNode]:\n",
    "        if not root: return None\n",
    "\n",
    "        stack = []\n",
    "        node = root\n",
    "        prefix_sum = 0\n",
    "\n",
    "        while node or stack:\n",
    "            if node:\n",
    "                stack.append(node)\n",
    "                node = node.right\n",
    "            else:\n",
    "                node = stack.pop()\n",
    "                node.val = node.val + prefix_sum\n",
    "                prefix_sum = node.val\n",
    "                node = node.left\n",
    "\n",
    "        return root\n",
    "    \n",
    "root = [4,1,6,0,2,5,7,None,None,None,3,None,None,None,8]\n",
    "root = constructBinaryTree(root)\n",
    "\n",
    "solution = Solution()\n",
    "ans = solution.convertBST(root)\n",
    "ans = convertBinaryTree2List(ans)\n",
    "ans\n"
   ]
  },
  {
   "cell_type": "code",
   "execution_count": 39,
   "id": "b129a100",
   "metadata": {},
   "outputs": [
    {
     "data": {
      "text/plain": [
       "True"
      ]
     },
     "execution_count": 39,
     "metadata": {},
     "output_type": "execute_result"
    }
   ],
   "source": [
    "# 653. Two Sum IV - Input is a BST\n",
    "\n",
    "class Solution:\n",
    "    def findTarget(self, root: Optional[TreeNode], k: int) -> bool:\n",
    "        hashmap = set()\n",
    "\n",
    "        def update(root: Optional[TreeNode], k: int):\n",
    "            if not root: return False\n",
    "\n",
    "            if k - root.val in hashmap:\n",
    "                return True\n",
    "            \n",
    "            hashmap.add(root.val)\n",
    "\n",
    "            return update(root.left, k) or update(root.right, k)\n",
    "\n",
    "        return update(root, k)\n",
    "\n",
    "root = [5,3,6,2,4,None,7]\n",
    "k = 9\n",
    "\n",
    "root = constructBinaryTree(root)\n",
    "solution = Solution()\n",
    "ans = solution.findTarget(root, k)\n",
    "ans"
   ]
  },
  {
   "cell_type": "code",
   "execution_count": 2,
   "id": "b93ea7df",
   "metadata": {},
   "outputs": [
    {
     "data": {
      "text/plain": [
       "[3, 2, None, 1]"
      ]
     },
     "execution_count": 2,
     "metadata": {},
     "output_type": "execute_result"
    }
   ],
   "source": [
    "# 669. Trim a Binary Search Tree\n",
    "\n",
    "class Solution:\n",
    "    def trimBST(self, root: Optional[TreeNode], low: int, high: int) -> Optional[TreeNode]:\n",
    "        if not root: return None\n",
    "\n",
    "        if root.val < low:\n",
    "            return self.trimBST(root.right, low, high)\n",
    "        if root.val > high:\n",
    "            return self.trimBST(root.left, low, high)\n",
    "        \n",
    "        root.left = self.trimBST(root.left, low, high)\n",
    "        root.right = self.trimBST(root.right, low, high)\n",
    "\n",
    "        return root\n",
    "\n",
    "root = [1, 0, 2]\n",
    "low = 1\n",
    "high = 2\n",
    "\n",
    "root = [3, 0, 4, None, 2, None, None, 1]\n",
    "low = 1\n",
    "high = 3\n",
    "root = constructBinaryTree(root)\n",
    "\n",
    "solution = Solution()\n",
    "ans = solution.trimBST(root, low, high)\n",
    "convertBinaryTree2List(ans)"
   ]
  },
  {
   "cell_type": "code",
   "execution_count": 4,
   "id": "3e226229",
   "metadata": {},
   "outputs": [
    {
     "data": {
      "text/plain": [
       "[2, 1, 3]"
      ]
     },
     "execution_count": 4,
     "metadata": {},
     "output_type": "execute_result"
    }
   ],
   "source": [
    "# 700. Search in a Binary Search Tree\n",
    "\n",
    "class Solution:\n",
    "    def searchBST(self, root: Optional[TreeNode], val: int) -> Optional[TreeNode]:\n",
    "        while root and root.val != val:\n",
    "            if root.val < val:\n",
    "                root = root.right\n",
    "            elif root.val > val:\n",
    "                root = root.left\n",
    "        \n",
    "        return root\n",
    "\n",
    "root = [4,2,7,1,3]\n",
    "val = 2\n",
    "\n",
    "root = constructBinaryTree(root)\n",
    "solution = Solution()\n",
    "ans = solution.searchBST(root, val)\n",
    "convertBinaryTree2List(ans)"
   ]
  },
  {
   "cell_type": "code",
   "execution_count": 7,
   "id": "c6d6359b",
   "metadata": {},
   "outputs": [
    {
     "data": {
      "text/plain": [
       "[4, 2, 7, 1, 3, 5]"
      ]
     },
     "execution_count": 7,
     "metadata": {},
     "output_type": "execute_result"
    }
   ],
   "source": [
    "# 701. Insert into a Binary Search Tree\n",
    "\n",
    "class Solution:\n",
    "    def insertIntoBST(self, root: Optional[TreeNode], val: int) -> Optional[TreeNode]:\n",
    "        if not root: return TreeNode(val, None, None)\n",
    "        node = root\n",
    "        while node:\n",
    "            if node.val < val:\n",
    "                if node.right:\n",
    "                    node = node.right\n",
    "                else:\n",
    "                    node.right = TreeNode(val, None, None)\n",
    "                    return root\n",
    "            elif node.val > val:\n",
    "                if node.left:\n",
    "                    node = node.left\n",
    "                else:\n",
    "                    node.left = TreeNode(val, None, None)\n",
    "                    return root\n",
    "\n",
    "    def insertIntoBST(self, root: Optional[TreeNode], val: int) -> Optional[TreeNode]:\n",
    "\n",
    "        if not root: return TreeNode(val, None, None)\n",
    "\n",
    "        if root.val > val:\n",
    "            root.left = self.insertIntoBST(root.left, val)\n",
    "        else:\n",
    "            root.right = self.insertIntoBST(root.right, val)\n",
    "        \n",
    "        return root\n",
    "            \n",
    "\n",
    "root = [4,2,7,1,3]\n",
    "val = 5\n",
    "\n",
    "root = constructBinaryTree(root)\n",
    "solution = Solution()\n",
    "ans = solution.insertIntoBST(root, val)\n",
    "convertBinaryTree2List(ans)"
   ]
  },
  {
   "cell_type": "code",
   "execution_count": 12,
   "id": "938b12dd",
   "metadata": {},
   "outputs": [
    {
     "data": {
      "text/plain": [
       "1"
      ]
     },
     "execution_count": 12,
     "metadata": {},
     "output_type": "execute_result"
    }
   ],
   "source": [
    "# 783. Minimum Distance Between BST Nodes\n",
    "\n",
    "class Solution:\n",
    "    def minDiffInBST(self, root: Optional[TreeNode]) -> int:\n",
    "        stack = []\n",
    "        pre_node = None\n",
    "        node = root\n",
    "        ans = None\n",
    "\n",
    "        while node or stack:\n",
    "            if node:\n",
    "                stack.append(node)\n",
    "                node = node.left\n",
    "            else:\n",
    "                node = stack.pop()\n",
    "                \n",
    "                if pre_node:\n",
    "                    diff = node.val - pre_node.val\n",
    "                    if diff == 1:\n",
    "                        return 1\n",
    "                    else:\n",
    "                        if not ans or ans > diff:\n",
    "                            ans = diff\n",
    "\n",
    "                pre_node = node\n",
    "                node = node.right\n",
    "        return ans\n",
    "\n",
    "root = [4,2,6,1,3]\n",
    "root = constructBinaryTree(root)\n",
    "solution = Solution()\n",
    "ans = solution.minDiffInBST(root)\n",
    "ans"
   ]
  },
  {
   "cell_type": "code",
   "execution_count": 29,
   "id": "39cabcb2",
   "metadata": {},
   "outputs": [
    {
     "data": {
      "text/plain": [
       "[1, None, 2, None, 3, None, 4]"
      ]
     },
     "execution_count": 29,
     "metadata": {},
     "output_type": "execute_result"
    }
   ],
   "source": [
    "# 897. Increasing Order Search Tree\n",
    "\n",
    "class Solution:\n",
    "    def increasingBST(self, root: Optional[TreeNode]) -> Optional[TreeNode]:\n",
    "        stack = []\n",
    "        new_root = None\n",
    "        pre_node = None\n",
    "        node = root\n",
    "\n",
    "        while node or stack:\n",
    "            if node:\n",
    "                stack.append(node)\n",
    "                node = node.left\n",
    "            else:\n",
    "                node = stack.pop()\n",
    "                if not new_root:\n",
    "                    new_root = node\n",
    "                else:\n",
    "                    pre_node.left = None\n",
    "                    pre_node.right = node\n",
    "                pre_node = node\n",
    "                node = node.right\n",
    "        pre_node.left = None\n",
    "        pre_node.right = None\n",
    "        return new_root\n",
    "\n",
    "\n",
    "root = [5,3,6,2,4,None,8,1,None,None,None,7,9]\n",
    "root = [5,1,7]\n",
    "root = [2,1,4,None,None,3]\n",
    "root = constructBinaryTree(root)\n",
    "solution = Solution()\n",
    "new_root = solution.increasingBST(root)\n",
    "convertBinaryTree2List(new_root)\n",
    "                "
   ]
  },
  {
   "cell_type": "code",
   "execution_count": 30,
   "id": "677e18ac",
   "metadata": {},
   "outputs": [
    {
     "data": {
      "text/plain": [
       "23"
      ]
     },
     "execution_count": 30,
     "metadata": {},
     "output_type": "execute_result"
    }
   ],
   "source": [
    "class Solution:\n",
    "    def rangeSumBST(self, root: Optional[TreeNode], low: int, high: int) -> int:\n",
    "        def update_sum(root, low, high):\n",
    "            if not root: return 0\n",
    "\n",
    "            if root.val < low:\n",
    "                return update_sum(root.right, low, high)\n",
    "            if root.val > high:\n",
    "                return update_sum(root.left, low, high)\n",
    "            return root.val + update_sum(root.left, low, high) + update_sum(root.right, low, high)\n",
    "        return update_sum(root, low, high)\n",
    "\n",
    "root = [10,5,15,3,7,13,18,1,None,6]\n",
    "low = 6\n",
    "high = 10\n",
    "\n",
    "root = constructBinaryTree(root)\n",
    "solution = Solution()\n",
    "solution.rangeSumBST(root, low, high)"
   ]
  },
  {
   "cell_type": "code",
   "execution_count": null,
   "id": "9a1fe862",
   "metadata": {},
   "outputs": [
    {
     "data": {
      "text/plain": [
       "[8, 5, 10, 1, 7, None, 12]"
      ]
     },
     "execution_count": 35,
     "metadata": {},
     "output_type": "execute_result"
    }
   ],
   "source": [
    "# 1008. Construct Binary Search Tree from Preorder Traversal\n",
    "\n",
    "class Solution:\n",
    "    def bstFromPreorder(self, preorder: List[int]) -> Optional[TreeNode]:\n",
    "        stack = []\n",
    "        root = TreeNode(preorder[0])\n",
    "        node = root\n",
    "        \n",
    "        for val in preorder[1:]:\n",
    "            if val < node.val:\n",
    "                node.left = TreeNode(val)\n",
    "                stack.append(node)\n",
    "                node = node.left\n",
    "            else:\n",
    "                while stack:\n",
    "                    if stack[-1].val > val:\n",
    "                        break\n",
    "                    node = stack.pop()\n",
    "                node.right = TreeNode(val)\n",
    "                node = node.right\n",
    "                stack.append(node)\n",
    "        return root\n",
    "                    \n",
    "preorder = [8,5,1,7,10,12]\n",
    "solution = Solution()\n",
    "root = solution.bstFromPreorder(preorder)\n",
    "convertBinaryTree2List(root)"
   ]
  },
  {
   "cell_type": "code",
   "execution_count": null,
   "id": "337d2b3f",
   "metadata": {},
   "outputs": [],
   "source": []
  }
 ],
 "metadata": {
  "kernelspec": {
   "display_name": "leetcode",
   "language": "python",
   "name": "python3"
  },
  "language_info": {
   "codemirror_mode": {
    "name": "ipython",
    "version": 3
   },
   "file_extension": ".py",
   "mimetype": "text/x-python",
   "name": "python",
   "nbconvert_exporter": "python",
   "pygments_lexer": "ipython3",
   "version": "3.9.21"
  }
 },
 "nbformat": 4,
 "nbformat_minor": 5
}
