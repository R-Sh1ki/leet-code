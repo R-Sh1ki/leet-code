{
 "cells": [
  {
   "cell_type": "code",
   "execution_count": 1,
   "id": "8ac8d501",
   "metadata": {},
   "outputs": [],
   "source": [
    "from solution import TreeNode, SolutionBase\n",
    "from typing import Optional, List"
   ]
  },
  {
   "cell_type": "code",
   "execution_count": null,
   "id": "26b0a5ee",
   "metadata": {},
   "outputs": [
    {
     "data": {
      "text/plain": [
       "4"
      ]
     },
     "execution_count": 3,
     "metadata": {},
     "output_type": "execute_result"
    }
   ],
   "source": [
    "# 33. Search in Rotated Sorted Array\n",
    "\n",
    "class Solution(SolutionBase):\n",
    "    def search(self, nums: List[int], target: int) -> int:\n",
    "        if not nums: return -1\n",
    "        \n",
    "        l, r = 0, len(nums)-1\n",
    "\n",
    "        while l <= r:\n",
    "            mid = (l + r) // 2\n",
    "            if nums[mid] == target:\n",
    "                return mid\n",
    "            # the left array is sorted.\n",
    "            if nums[0] <= nums[mid]:\n",
    "                if nums[0] <= target < nums[mid]:\n",
    "                    r = mid - 1\n",
    "                else:\n",
    "                    l = mid + 1\n",
    "            else:\n",
    "                if nums[mid] < target <= nums[-1]:\n",
    "                    l = mid + 1\n",
    "                else:\n",
    "                    r = mid - 1\n",
    "        return -1\n",
    "\n",
    "nums = [4,5,6,7,0,1,2]\n",
    "target = 0\n",
    "# nums = [1]\n",
    "# target = 0\n",
    "\n",
    "solution = Solution()\n",
    "solution.search(nums, target)"
   ]
  },
  {
   "cell_type": "code",
   "execution_count": null,
   "id": "36a0f883",
   "metadata": {},
   "outputs": [
    {
     "data": {
      "text/plain": [
       "[3, 4]"
      ]
     },
     "execution_count": 4,
     "metadata": {},
     "output_type": "execute_result"
    }
   ],
   "source": [
    "# 34. Find First and Last Position of Element in Sorted Array\n",
    "\n",
    "class Solution(SolutionBase):\n",
    "    def searchRange(self, nums: List[int], target: int) -> List[int]:\n",
    "        if not nums: return [-1, -1]\n",
    "\n",
    "        n = len(nums)\n",
    "        l, r = 0, n - 1\n",
    "\n",
    "        while l <= r:\n",
    "            mid = (l + r) // 2\n",
    "            \n",
    "            if nums[mid] > target:\n",
    "                r = mid - 1\n",
    "            elif nums[mid] < target:\n",
    "                l = mid + 1\n",
    "            else:\n",
    "                ptr = mid - 1\n",
    "                while ptr >= 0 and nums[ptr] == target:\n",
    "                    ptr -= 1\n",
    "                left_bound = ptr + 1\n",
    "                ptr = mid + 1\n",
    "                while ptr <= n - 1 and nums[ptr] == target:\n",
    "                    ptr += 1\n",
    "                right_bound = ptr - 1\n",
    "                return [left_bound, right_bound]\n",
    "        \n",
    "        return [-1, -1]\n",
    "\n",
    "nums = [5, 7, 7, 8, 8, 10]\n",
    "target = 8\n",
    "\n",
    "solution = Solution()\n",
    "solution.searchRange(nums, target)"
   ]
  },
  {
   "cell_type": "code",
   "execution_count": 9,
   "id": "1adfc5fa",
   "metadata": {},
   "outputs": [
    {
     "data": {
      "text/plain": [
       "4"
      ]
     },
     "execution_count": 9,
     "metadata": {},
     "output_type": "execute_result"
    }
   ],
   "source": [
    "# 35. Search Insert Position\n",
    "\n",
    "class Solution:\n",
    "    def searchInsert(self, nums: List[int], target: int) -> int:\n",
    "        if not nums: return 0\n",
    "\n",
    "        l, r = 0, len(nums) - 1\n",
    "\n",
    "        while l <= r:\n",
    "            mid = (l + r) // 2\n",
    "\n",
    "            if nums[mid] == target:\n",
    "                return mid\n",
    "            elif nums[mid] > target:\n",
    "                r = mid - 1\n",
    "            else:\n",
    "                l = mid + 1\n",
    "        return l\n",
    "\n",
    "nums = [1, 3, 5, 6]\n",
    "target = 5\n",
    "\n",
    "nums = [1, 3, 5, 6]\n",
    "target = 2\n",
    "\n",
    "nums = [1, 3, 5, 6]\n",
    "target = 7\n",
    "\n",
    "solution = Solution()\n",
    "solution.searchInsert(nums, target)"
   ]
  },
  {
   "cell_type": "code",
   "execution_count": 12,
   "id": "1a386d4a",
   "metadata": {},
   "outputs": [
    {
     "data": {
      "text/plain": [
       "2"
      ]
     },
     "execution_count": 12,
     "metadata": {},
     "output_type": "execute_result"
    }
   ],
   "source": [
    "# 69. Sqrt(x)\n",
    "\n",
    "class Solution(SolutionBase):\n",
    "    def mySqrt(self, x: int) -> int:\n",
    "        if x == 0 or x == 1: return x\n",
    "\n",
    "        l, r = 1, x // 2\n",
    "\n",
    "        while l <= r:\n",
    "            mid = (l + r) // 2\n",
    "\n",
    "            if mid ** 2 == x:\n",
    "                return mid\n",
    "            elif mid ** 2 < x:\n",
    "                l = mid + 1\n",
    "            else:\n",
    "                r = mid - 1\n",
    "        return r\n",
    "\n",
    "x = 8\n",
    "x = 4\n",
    "solution = Solution()\n",
    "solution.mySqrt(x)"
   ]
  },
  {
   "cell_type": "code",
   "execution_count": 52,
   "id": "777b2eba",
   "metadata": {},
   "outputs": [
    {
     "data": {
      "text/plain": [
       "True"
      ]
     },
     "execution_count": 52,
     "metadata": {},
     "output_type": "execute_result"
    }
   ],
   "source": [
    "# 74. Search a 2D Matrix\n",
    "\n",
    "class Solution:\n",
    "    def searchMatrix(self, matrix: List[List[int]], target: int) -> bool:\n",
    "        m, n = len(matrix), len(matrix[0])\n",
    "\n",
    "        l, r = 0, m-1\n",
    "\n",
    "        while l<=r:\n",
    "            mid = (l+r) // 2\n",
    "            if matrix[mid][0] <= target:\n",
    "                l = mid + 1\n",
    "            else:\n",
    "                r = mid - 1\n",
    "        row = r\n",
    "\n",
    "        l, r = 0, n-1\n",
    "\n",
    "        while l<=r:\n",
    "            mid = (l+r) // 2\n",
    "            if matrix[row][mid] == target:\n",
    "                return True\n",
    "            elif matrix[row][mid] < target:\n",
    "                l = mid + 1\n",
    "            else:\n",
    "                r = mid - 1\n",
    "        return False\n",
    "\n",
    "matrix = [[1,3,5,7],[10,11,16,20],[23,30,34,60]]\n",
    "target = 1\n",
    "\n",
    "matrix = [[1], [3]]\n",
    "target = 1\n",
    "\n",
    "matrix = [[1,3,5,7],[10,11,16,20],[23,30,34,50]]\n",
    "target = 11\n",
    "\n",
    "solution = Solution()\n",
    "solution.searchMatrix(matrix, target)"
   ]
  },
  {
   "cell_type": "code",
   "execution_count": 60,
   "id": "b20f5171",
   "metadata": {},
   "outputs": [
    {
     "data": {
      "text/plain": [
       "True"
      ]
     },
     "execution_count": 60,
     "metadata": {},
     "output_type": "execute_result"
    }
   ],
   "source": [
    "# 81. Search in Rotated Sorted Array II\n",
    "\n",
    "class Solution(SolutionBase):\n",
    "    def search(self, nums: List[int], target: int) -> int:\n",
    "        if not nums: return -1\n",
    "        \n",
    "        l, r = 0, len(nums)-1\n",
    "\n",
    "        while l <= r:\n",
    "            mid = (l + r) // 2\n",
    "            if nums[mid] == target:\n",
    "                return True\n",
    "            # the left array is sorted.\n",
    "            if nums[l] == nums[mid] and nums[r] == nums[mid]:\n",
    "                l += 1\n",
    "                r -= 1\n",
    "            elif nums[l] <= nums[mid]:\n",
    "                if nums[l] <= target < nums[mid]:\n",
    "                    r = mid - 1\n",
    "                else:\n",
    "                    l = mid + 1\n",
    "            else:\n",
    "                if nums[mid] < target <= nums[-1]:\n",
    "                    l = mid + 1\n",
    "                else:\n",
    "                    r = mid - 1\n",
    "        return False\n",
    "\n",
    "nums = [2,5,6,0,0,1,2]\n",
    "target = 0\n",
    "\n",
    "nums = [1,0,1,1,1]\n",
    "target = 0\n",
    "\n",
    "solution = Solution()\n",
    "solution.search(nums, target)"
   ]
  },
  {
   "cell_type": "code",
   "execution_count": 68,
   "id": "edead7e1",
   "metadata": {},
   "outputs": [
    {
     "data": {
      "text/plain": [
       "11"
      ]
     },
     "execution_count": 68,
     "metadata": {},
     "output_type": "execute_result"
    }
   ],
   "source": [
    "# 153. Find Minimum in Rotated Sorted Array\n",
    "\n",
    "class Solution:\n",
    "    def findMin(self, nums: List[int]) -> int:\n",
    "        l, r = 0, len(nums) - 1\n",
    "\n",
    "        min_val = nums[0]\n",
    "\n",
    "        while l <= r:\n",
    "            mid = (l + r) // 2\n",
    "\n",
    "            if nums[mid] < min_val:\n",
    "                min_val = nums[mid]\n",
    "            \n",
    "            if nums[0] <= nums[mid]:\n",
    "                l = mid + 1\n",
    "            else:\n",
    "                r = mid - 1\n",
    "        return min_val\n",
    "    \n",
    "nums = [3,4,5,1,2]\n",
    "nums = [4,5,6,7,0,1,2]\n",
    "nums = [11,13,15,17]\n",
    "\n",
    "solution = Solution()\n",
    "solution.findMin(nums)"
   ]
  },
  {
   "cell_type": "code",
   "execution_count": null,
   "id": "3feb62a7",
   "metadata": {},
   "outputs": [
    {
     "data": {
      "text/plain": [
       "1"
      ]
     },
     "execution_count": 79,
     "metadata": {},
     "output_type": "execute_result"
    }
   ],
   "source": [
    "# 154. Find Minimum in Rotated Sorted Array II\n",
    "\n",
    "class Solution:\n",
    "    def findMin(self, nums: List[int]) -> int:\n",
    "        l, r = 0, len(nums) - 1\n",
    "\n",
    "        while l <= r:\n",
    "            mid = (l+r) // 2\n",
    "            if nums[mid] > nums[r]:\n",
    "                l = mid + 1\n",
    "            elif nums[mid] < nums[r]:\n",
    "                r = mid\n",
    "            else:\n",
    "                r -= 1\n",
    "        return nums[l]\n",
    "\n",
    "nums = [1,3,5]\n",
    "nums = [2,2,2,0,1]\n",
    "nums = [10,1,10,10,10]\n",
    "\n",
    "solution = Solution()\n",
    "solution.findMin(nums)"
   ]
  },
  {
   "cell_type": "code",
   "execution_count": 89,
   "id": "95330df8",
   "metadata": {},
   "outputs": [
    {
     "data": {
      "text/plain": [
       "0"
      ]
     },
     "execution_count": 89,
     "metadata": {},
     "output_type": "execute_result"
    }
   ],
   "source": [
    "# 162. Find Peak Element\n",
    "\n",
    "class Solution:\n",
    "    def findPeakElement(self, nums: List[int]) -> int:\n",
    "        inf = 2 ** 31 + 1\n",
    "        nums = [-inf] + nums + [-inf]\n",
    "\n",
    "        left, right = 1, len(nums) - 2\n",
    "\n",
    "        while left <= right:\n",
    "            mid = (left+right) // 2\n",
    "\n",
    "            if nums[mid-1] < nums[mid] and nums[mid+1] < nums[mid]:\n",
    "                return mid - 1\n",
    "            \n",
    "            if nums[mid] < nums[mid+1]:\n",
    "                left = mid+1\n",
    "            else:\n",
    "                right = mid-1\n",
    "\n",
    "        return -1\n",
    "    \n",
    "nums = [1,2,3,1]\n",
    "nums = [1,2,1,3,5,6,4]\n",
    "nums = [1]\n",
    "\n",
    "solution = Solution()\n",
    "solution.findPeakElement(nums)"
   ]
  },
  {
   "cell_type": "code",
   "execution_count": null,
   "id": "5566ca9e",
   "metadata": {},
   "outputs": [
    {
     "data": {
      "text/plain": [
       "[1, 3]"
      ]
     },
     "execution_count": 93,
     "metadata": {},
     "output_type": "execute_result"
    }
   ],
   "source": [
    "# 167. Two Sum II - Input Array Is Sorted\n",
    "\n",
    "class Solution:\n",
    "    def twoSum(self, numbers: List[int], target: int) -> List[int]:\n",
    "        n = len(numbers)\n",
    "        for i in range(n - 1):\n",
    "            subtarget = target - numbers[i]\n",
    "\n",
    "            if subtarget < numbers[i]:\n",
    "                return \n",
    "            if subtarget > numbers[-1]:\n",
    "                continue\n",
    "\n",
    "            left, right = i+1, n-1\n",
    "            while left <= right:\n",
    "                mid = (left+right) // 2\n",
    "                if numbers[mid] == subtarget:\n",
    "                    return [i+1, mid+1]\n",
    "                if numbers[mid] <= subtarget:\n",
    "                    left = mid + 1\n",
    "                else:\n",
    "                    right = mid - 1\n",
    "\n",
    "numbers = [2,7,11,15]\n",
    "target = 9\n",
    "numbers = [2,3,4]\n",
    "target = 6\n",
    "\n",
    "solution = Solution()\n",
    "solution.twoSum(numbers, target)"
   ]
  },
  {
   "cell_type": "code",
   "execution_count": 104,
   "id": "f38fe6cd",
   "metadata": {},
   "outputs": [
    {
     "data": {
      "text/plain": [
       "2"
      ]
     },
     "execution_count": 104,
     "metadata": {},
     "output_type": "execute_result"
    }
   ],
   "source": [
    "# 209. Minimum Size Subarray Sum\n",
    "\n",
    "class Solution:\n",
    "    def minSubArrayLen(self, target: int, nums: List[int]) -> int:\n",
    "        \"\"\"prefix-sum and binary search.\"\"\"\n",
    "        if not nums: return 0\n",
    "\n",
    "        n = len(nums)\n",
    "        ans = n + 1\n",
    "        # prefix sums store the sum from nums[0] to sum[i]\n",
    "        prefix_sums = [0]\n",
    "\n",
    "        # the elements of nums are positive integers, thus, the prefix_sums is ascended.\n",
    "        for i in range(n):\n",
    "            prefix_sums.append(prefix_sums[-1] + nums[i])\n",
    "\n",
    "\n",
    "        for i in range(1, n+1):\n",
    "            new_target = target + prefix_sums[i-1]\n",
    "            if new_target > prefix_sums[-1]: continue\n",
    "\n",
    "            left, right = i, n\n",
    "            while left <= right:\n",
    "                mid = (left + right) // 2\n",
    "                if prefix_sums[mid] >= new_target:\n",
    "                    right = mid - 1\n",
    "                else:\n",
    "                    left = mid + 1\n",
    "\n",
    "            ans = min(ans, left - (i - 1))\n",
    "        return 0 if ans == n + 1 else ans\n",
    "\n",
    "target = 7\n",
    "nums = [2, 3, 1, 2, 4, 3]\n",
    "\n",
    "solution = Solution()\n",
    "solution.minSubArrayLen(target, nums)"
   ]
  },
  {
   "cell_type": "code",
   "execution_count": 124,
   "id": "edd6b652",
   "metadata": {},
   "outputs": [
    {
     "data": {
      "text/plain": [
       "6"
      ]
     },
     "execution_count": 124,
     "metadata": {},
     "output_type": "execute_result"
    }
   ],
   "source": [
    "# 222. Count Complete Tree Nodes\n",
    "\n",
    "class Solution(SolutionBase):\n",
    "    def countNodes(self, root: Optional[TreeNode]) -> int:\n",
    "        if not root: return 0\n",
    "\n",
    "        def exist_node(root: Optional[TreeNode], level: int, k: int) -> bool:\n",
    "            bits = 1 << (level - 1)\n",
    "            node = root\n",
    "\n",
    "            while node and bits > 0:\n",
    "                if bits & k == 0:\n",
    "                    node = node.left\n",
    "                else:\n",
    "                    node = node.right\n",
    "                bits >>= 1\n",
    "            \n",
    "            return node is not None\n",
    "        \n",
    "        level = 0\n",
    "        node = root\n",
    "        while node.left:\n",
    "            level += 1\n",
    "            node = node.left\n",
    "        \n",
    "        left, right = 2**level, 2**(level+1) - 1\n",
    "        while left < right:\n",
    "            mid = (right - left + 1) // 2 + left\n",
    "            if exist_node(root, level, mid):\n",
    "                left = mid\n",
    "            else:\n",
    "                right = mid - 1\n",
    "        return left        \n",
    "\n",
    "root = [1,2,3,4,5,6]\n",
    "\n",
    "solution = Solution()\n",
    "root = solution.constructBinaryTree(root)\n",
    "solution.countNodes(root)    "
   ]
  },
  {
   "cell_type": "code",
   "execution_count": null,
   "id": "21c585a7",
   "metadata": {},
   "outputs": [
    {
     "data": {
      "text/plain": [
       "False"
      ]
     },
     "execution_count": 128,
     "metadata": {},
     "output_type": "execute_result"
    }
   ],
   "source": [
    "# 240. Search a 2D Matrix II\n",
    "\n",
    "class Solution:\n",
    "    def searchMatrix(self, matrix: List[List[int]], target: int) -> bool:\n",
    "        for row in matrix:\n",
    "            if row[0] > target:\n",
    "                break\n",
    "            left, right = 0, len(row) - 1\n",
    "            while left <= right:\n",
    "                mid = (left + right) // 2\n",
    "                if row[mid] == target: return True\n",
    "                if row[mid] < target:\n",
    "                    left = mid + 1\n",
    "                else:\n",
    "                    right = mid - 1\n",
    "        return False\n",
    "\n",
    "matrix = [[1,4,7,11,15],[2,5,8,12,19],[3,6,9,16,22],[10,13,14,17,24],[18,21,23,26,30]]\n",
    "target = 5\n",
    "matrix = [[1,4,7,11,15],[2,5,8,12,19],[3,6,9,16,22],[10,13,14,17,24],[18,21,23,26,30]]\n",
    "target = 20\n",
    "\n",
    "solution = Solution()\n",
    "solution.searchMatrix(matrix, target)"
   ]
  },
  {
   "cell_type": "code",
   "execution_count": 131,
   "id": "94237698",
   "metadata": {},
   "outputs": [
    {
     "data": {
      "text/plain": [
       "3"
      ]
     },
     "execution_count": 131,
     "metadata": {},
     "output_type": "execute_result"
    }
   ],
   "source": [
    "# 275. H-Index II\n",
    "\n",
    "class Solution:\n",
    "    def hIndex(self, citations: List[int]) -> int:\n",
    "        n = len(citations)\n",
    "        left, right = 1, n\n",
    "\n",
    "        while left <= right:\n",
    "            mid = (left+right) // 2\n",
    "            if citations[-mid] >= mid:\n",
    "                left = mid + 1\n",
    "            else:\n",
    "                right = mid - 1\n",
    "        return right\n",
    "\n",
    "citations = [0,1,3,5,6]\n",
    "solution = Solution()\n",
    "solution.hIndex(citations)"
   ]
  },
  {
   "cell_type": "code",
   "execution_count": 132,
   "id": "d6a2d991",
   "metadata": {},
   "outputs": [
    {
     "data": {
      "text/plain": [
       "4"
      ]
     },
     "execution_count": 132,
     "metadata": {},
     "output_type": "execute_result"
    }
   ],
   "source": [
    "# 278. First Bad Version\n",
    "\n",
    "class Solution:\n",
    "    def __init__(self, bad_version):\n",
    "        self.bad_version = bad_version\n",
    "    \n",
    "    def firstBadVersion(self, n: int) -> int:\n",
    "        def isBadVersion(version: int) -> bool:\n",
    "            if version >= self.bad_version:\n",
    "                return True\n",
    "            else:\n",
    "                return False\n",
    "        \n",
    "        left, right = 1, n\n",
    "        while left <= right:\n",
    "            mid = (left + right) // 2\n",
    "            if isBadVersion(mid):\n",
    "                right = mid - 1\n",
    "            else:\n",
    "                left = mid + 1\n",
    "        return left\n",
    "\n",
    "n = 5\n",
    "bad = 4\n",
    "\n",
    "solution = Solution(bad)\n",
    "solution.firstBadVersion(n)"
   ]
  },
  {
   "cell_type": "code",
   "execution_count": null,
   "id": "e4cad079",
   "metadata": {},
   "outputs": [],
   "source": []
  }
 ],
 "metadata": {
  "kernelspec": {
   "display_name": "leetcode",
   "language": "python",
   "name": "python3"
  },
  "language_info": {
   "codemirror_mode": {
    "name": "ipython",
    "version": 3
   },
   "file_extension": ".py",
   "mimetype": "text/x-python",
   "name": "python",
   "nbconvert_exporter": "python",
   "pygments_lexer": "ipython3",
   "version": "3.9.21"
  }
 },
 "nbformat": 4,
 "nbformat_minor": 5
}
